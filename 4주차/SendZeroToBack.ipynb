{
 "cells": [
  {
   "cell_type": "code",
   "execution_count": null,
   "source": [
    "def reorder(arr, n):\r\n",
    "    j = 0\r\n",
    "    for i in range(n):\r\n",
    "        if(arr[i] != 0):\r\n",
    "            arr[j] = arr[i]\r\n",
    "            j+=1\r\n",
    "\r\n",
    "    for i in range(j, n):\r\n",
    "        arr[i] = 0\r\n",
    "\r\n",
    "arr = [6, 0, 8, 2, 3, 0, 4, 0, 1]\r\n",
    "n = len(arr)\r\n",
    "reorder(arr, n)\r\n",
    "print(arr)"
   ],
   "outputs": [],
   "metadata": {}
  }
 ],
 "metadata": {
  "orig_nbformat": 4,
  "language_info": {
   "name": "python"
  }
 },
 "nbformat": 4,
 "nbformat_minor": 2
}