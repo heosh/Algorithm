{
  "nbformat": 4,
  "nbformat_minor": 0,
  "metadata": {
    "colab": {
      "name": "2_toggleCase.ipynb",
      "provenance": []
    },
    "kernelspec": {
      "name": "python3",
      "display_name": "Python 3"
    },
    "language_info": {
      "name": "python"
    }
  },
  "cells": [
    {
      "cell_type": "code",
      "metadata": {
        "colab": {
          "base_uri": "https://localhost:8080/"
        },
        "id": "t483dd3jmVj5",
        "outputId": "5189477f-c30e-45f8-e111-628aae3f5ee3"
      },
      "source": [
        "def toggleCase(str):\n",
        "  result = \"\"\n",
        "  for ch in str:\n",
        "    result += chr(ord(ch) ^ 32)\n",
        "  return result\n",
        "\n",
        "str = \"ChErRy\"\n",
        "print(\"Original string: \" + str)\n",
        "print(\"toggleCase: \" + toggleCase(str))"
      ],
      "execution_count": 32,
      "outputs": [
        {
          "output_type": "stream",
          "name": "stdout",
          "text": [
            "Original string: ChErRy\n",
            "toggleCase: cHeRrY\n"
          ]
        }
      ]
    },
    {
      "cell_type": "code",
      "metadata": {
        "id": "GzRrEC69pGbh"
      },
      "source": [
        "))"
      ],
      "execution_count": null,
      "outputs": []
    }
  ]
}