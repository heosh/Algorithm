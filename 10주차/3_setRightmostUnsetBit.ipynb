{
 "cells": [
  {
   "cell_type": "code",
   "execution_count": 1,
   "metadata": {},
   "outputs": [
    {
     "name": "stdout",
     "output_type": "stream",
     "text": [
      "23\n"
     ]
    }
   ],
   "source": [
    "# 양의 정수에 대해 가장 오른쪽 0 값의 비트를 1로 바꾼다. 만약 그런 0 값이 없으면 원래 정수를 반환한다\n",
    "\n",
    "import math\n",
    "\n",
    "def getPosOfRightmostSetBit(num):\n",
    "    return math.log2(~num&(num+1)) + 1\n",
    "\n",
    "def setRightmostUnsetBit(num):\n",
    "    if(num == 0):\n",
    "        return 1\n",
    "    if( (num & (num+1) == 0)):\n",
    "        return num\n",
    "\n",
    "    pos =  int(getPosOfRightmostSetBit(num))\n",
    "    return ( (1 << (pos -1)) | num)\n",
    "\n",
    "\n",
    "num = 21\n",
    "print(setRightmostUnsetBit(num))\n",
    "\n"
   ]
  }
 ],
 "metadata": {
  "interpreter": {
   "hash": "6dd0af9b8b7e17f847c2ee7319c6039c72192adc34eba6a901458aae092d1543"
  },
  "kernelspec": {
   "display_name": "Python 3.9.2 64-bit",
   "name": "python3"
  },
  "language_info": {
   "codemirror_mode": {
    "name": "ipython",
    "version": 3
   },
   "file_extension": ".py",
   "mimetype": "text/x-python",
   "name": "python",
   "nbconvert_exporter": "python",
   "pygments_lexer": "ipython3",
   "version": "3.9.2"
  },
  "orig_nbformat": 4
 },
 "nbformat": 4,
 "nbformat_minor": 2
}
