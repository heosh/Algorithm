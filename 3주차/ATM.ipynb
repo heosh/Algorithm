{
 "cells": [
  {
   "cell_type": "code",
   "execution_count": 20,
   "source": [
    "# https://www.acmicpc.net/problem/11399\r\n",
    "\r\n",
    "num = input()\r\n",
    "timeArr = list(map(int, input().split()))\r\n",
    "time, wait = 0, 0\r\n",
    "# 시간순으로 정렬\r\n",
    "timeArr.sort()\r\n",
    "for i in timeArr:\r\n",
    "    time += i + wait\r\n",
    "    wait += i\r\n",
    "\r\n",
    "print(time)"
   ],
   "outputs": [
    {
     "output_type": "execute_result",
     "data": {
      "text/plain": [
       "32"
      ]
     },
     "metadata": {},
     "execution_count": 20
    }
   ],
   "metadata": {}
  }
 ],
 "metadata": {
  "orig_nbformat": 4,
  "language_info": {
   "name": "python",
   "version": "3.9.2",
   "mimetype": "text/x-python",
   "codemirror_mode": {
    "name": "ipython",
    "version": 3
   },
   "pygments_lexer": "ipython3",
   "nbconvert_exporter": "python",
   "file_extension": ".py"
  },
  "kernelspec": {
   "name": "python3",
   "display_name": "Python 3.9.2 64-bit"
  },
  "interpreter": {
   "hash": "6dd0af9b8b7e17f847c2ee7319c6039c72192adc34eba6a901458aae092d1543"
  }
 },
 "nbformat": 4,
 "nbformat_minor": 2
}