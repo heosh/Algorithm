{
 "cells": [
  {
   "cell_type": "code",
   "execution_count": 4,
   "source": [
    "# 어떠한 수 N이 1이 될 때까지 다음의 두 과정 중 하나를 반복적으로 선택하여 수행하려고 합니다. 단, 두 번째 연산은 N이 K로 나누어 떨어질 때만 선택할 수 있습니다.\r\n",
    "# 1. N에서 1을 뺍니다.\r\n",
    "# 2. N을 K로 나눕니다.\r\n",
    "# 예를 들어 N이 17, K가 4라고 가정합시다. 이때 1번의 과정을 한 번 수행하면 N은 16이 됩니다.\r\n",
    "# 이후에 2번의 과정을 두 번 수행하면 N은 1이 됩니다. 결과적으로 이 경우 전체 과정을 실행한 횟수는 3이 됩니다. 이는 N을 1로 만드는 최소 횟수입니다.\r\n",
    "# N과 K가 주어질 때 N이 1이 될 때까지 1번 혹은 2번의 과정을 수행해야 하는 최소 횟수를 구하는 프로그램을 작성하시오."
   ],
   "outputs": [
    {
     "output_type": "stream",
     "name": "stdout",
     "text": [
      "6\n"
     ]
    }
   ],
   "metadata": {}
  },
  {
   "cell_type": "code",
   "execution_count": 2,
   "source": [
    "n, k = map(int, input().split())\r\n",
    "\r\n",
    "result = 0\r\n",
    "\r\n",
    "while True:\r\n",
    "    # N이 K로 나누어 떨어지는 수가 될 때까지 빼기\r\n",
    "    target = (n // k) * k\r\n",
    "    result += (n - target)\r\n",
    "    n = target\r\n",
    "    # N이 K보다 작을 때 (더 이상 나눌 수 없을 때) 반복문 탈충\r\n",
    "    if n < k:\r\n",
    "        break\r\n",
    "    # k로 나누기\r\n",
    "    result += 1\r\n",
    "    n //= k\r\n",
    "\r\n",
    "# 마지막으로 남은 수에 대하여 1씩 빼기\r\n",
    "result += (n - 1)\r\n",
    "print(result)\r\n",
    "\r\n",
    "\r\n",
    "\r\n",
    "\r\n",
    "\r\n",
    "\r\n"
   ],
   "outputs": [
    {
     "output_type": "stream",
     "name": "stdout",
     "text": [
      "2\n"
     ]
    }
   ],
   "metadata": {}
  }
 ],
 "metadata": {
  "orig_nbformat": 4,
  "language_info": {
   "name": "python",
   "version": "3.9.2",
   "mimetype": "text/x-python",
   "codemirror_mode": {
    "name": "ipython",
    "version": 3
   },
   "pygments_lexer": "ipython3",
   "nbconvert_exporter": "python",
   "file_extension": ".py"
  },
  "kernelspec": {
   "name": "python3",
   "display_name": "Python 3.9.2 64-bit"
  },
  "interpreter": {
   "hash": "6dd0af9b8b7e17f847c2ee7319c6039c72192adc34eba6a901458aae092d1543"
  }
 },
 "nbformat": 4,
 "nbformat_minor": 2
}