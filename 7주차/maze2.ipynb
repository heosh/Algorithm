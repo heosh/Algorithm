{
 "cells": [
  {
   "cell_type": "code",
   "execution_count": 15,
   "metadata": {},
   "outputs": [
    {
     "name": "stdout",
     "output_type": "stream",
     "text": [
      "1 0\n",
      "0 0\n",
      "1 1\n",
      "1 2\n",
      "0 2\n",
      "1 3\n",
      "1 4\n",
      "0 4\n",
      "1 5\n",
      "2 5\n",
      "3 5\n",
      "4 5\n",
      "3 4\n",
      "4 4\n",
      "3 3\n",
      "4 3\n",
      "3 2\n",
      "4 2\n",
      "3 1\n",
      "4 1\n",
      "3 0\n",
      "4 0\n",
      "10\n"
     ]
    }
   ],
   "source": [
    "# 미로탈출 - DFS 사용\n",
    "\n",
    "def dfs(x, y):\n",
    "    stack = []\n",
    "    stack.append((x,y))\n",
    "\n",
    "    while (len(stack) > 0):\n",
    "        x, y = stack.pop()\n",
    "\n",
    "        for i in range(4):\n",
    "            nx = x + dx[i]\n",
    "            ny = y + dy[i]\n",
    "\n",
    "            if nx<0 or ny<0 or nx >= n or ny >= m:\n",
    "                continue\n",
    "            \n",
    "            if graph[nx][ny] == 1:\n",
    "                graph[nx][ny] = graph[x][y] + 1\n",
    "                stack.append((nx, ny))\n",
    "                # print(nx , ny)\n",
    "            \n",
    "        \n",
    "    return graph[n-1][m-1]\n",
    "\n",
    "\n",
    "# N, M을 공백을 기준으로 구분하여 받기\n",
    "n, m = map(int, input().split())\n",
    "\n",
    "# 2차원 리스트의 맵 정보 입력 받기\n",
    "graph = []\n",
    "for i in range(n):\n",
    "    graph.append(list(map(int, input())))\n",
    "\n",
    "\n",
    "# 이동할 네 가지 방향 정의 (상, 하, 좌, 우)\n",
    "dx = [-1, 1, 0, 0]\n",
    "dy = [0, 0, -1, 1]\n",
    "\n",
    "# BFS를 수행한 결과 출력\n",
    "print(dfs(0, 0))"
   ]
  }
 ],
 "metadata": {
  "language_info": {
   "name": "python"
  },
  "orig_nbformat": 4
 },
 "nbformat": 4,
 "nbformat_minor": 2
}
