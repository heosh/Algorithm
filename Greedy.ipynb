{
 "cells": [
  {
   "cell_type": "code",
   "execution_count": 18,
   "source": [
    "# https://www.acmicpc.net/problem/11047 백준 알고리즘 문제\r\n",
    "\r\n",
    "n, k = map(int,input().split())\r\n",
    "conintype = list(range(0,n))\r\n",
    "cnt = 0\r\n",
    "\r\n",
    "for i in conintype:\r\n",
    "    conintype[i] = int(input())\r\n",
    "\r\n",
    "conintype.sort(reverse=True)\r\n",
    "\r\n",
    "for coin in conintype:\r\n",
    "    cnt += k //coin\r\n",
    "    k %= coin\r\n",
    "\r\n",
    "print(cnt)"
   ],
   "outputs": [
    {
     "output_type": "stream",
     "name": "stdout",
     "text": [
      "500\n",
      "100\n",
      "50\n",
      "10\n",
      "6\n"
     ]
    }
   ],
   "metadata": {}
  }
 ],
 "metadata": {
  "orig_nbformat": 4,
  "language_info": {
   "name": "python",
   "version": "3.7.9",
   "mimetype": "text/x-python",
   "codemirror_mode": {
    "name": "ipython",
    "version": 3
   },
   "pygments_lexer": "ipython3",
   "nbconvert_exporter": "python",
   "file_extension": ".py"
  },
  "kernelspec": {
   "name": "python3",
   "display_name": "Python 3.7.9 64-bit ('myenv': conda)"
  },
  "interpreter": {
   "hash": "8b75279b77205327bf231c8affe32e5cdffd562d42440d8a3d5d4993d32b54e3"
  }
 },
 "nbformat": 4,
 "nbformat_minor": 2
}