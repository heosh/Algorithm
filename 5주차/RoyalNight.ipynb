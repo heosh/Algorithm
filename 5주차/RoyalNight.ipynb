{
 "cells": [
  {
   "cell_type": "code",
   "execution_count": 4,
   "source": [
    "# 왕실의 나이트 문제.\r\n",
    "# 문제 참고 (https://velog.io/@suzieep/Algorithm-%EC%9D%B4%EC%BD%94%ED%85%8C-%EC%99%95%EC%8B%A4%EC%9D%98-%EB%82%98%EC%9D%B4%ED%8A%B8-%ED%8C%8C%EC%9D%B4%EC%8D%AC)\r\n",
    "\r\n",
    "# 현재 나이트의 위치 입력받기\r\n",
    "input_data = input()\r\n",
    "row = int(input_data[1])\r\n",
    "column = int(ord(input_data[0])) - int(ord('a')) + 1\r\n",
    "\r\n",
    "# 나이트가 이동할 수 있는 8가지 방향 정의\r\n",
    "steps = [(-2, -1), (-1, -2), (1, -2), (2, -1), (2, 1), (1, 2), (-1, 2), (-2, 1)]\r\n",
    "\r\n",
    "# 8가지 방향에 대하여 각 위치로 이동이 가능한지 확인\r\n",
    "result = 0\r\n",
    "for step in steps:\r\n",
    "    # 이동하고자 하는 위치 확인\r\n",
    "    next_row = row + step[0]\r\n",
    "    next_column = column + step[1]\r\n",
    "    # 해당 위치로 이동이 가능하다면 카운트 증가\r\n",
    "    if next_row >= 1 and next_row <= 8 and next_column >= 1 and next_column <= 8:\r\n",
    "        result += 1\r\n",
    "\r\n",
    "print(result)\r\n"
   ],
   "outputs": [
    {
     "output_type": "stream",
     "name": "stdout",
     "text": [
      "6\n"
     ]
    }
   ],
   "metadata": {}
  }
 ],
 "metadata": {
  "orig_nbformat": 4,
  "language_info": {
   "name": "python",
   "version": "3.9.2",
   "mimetype": "text/x-python",
   "codemirror_mode": {
    "name": "ipython",
    "version": 3
   },
   "pygments_lexer": "ipython3",
   "nbconvert_exporter": "python",
   "file_extension": ".py"
  },
  "kernelspec": {
   "name": "python3",
   "display_name": "Python 3.9.2 64-bit"
  },
  "interpreter": {
   "hash": "6dd0af9b8b7e17f847c2ee7319c6039c72192adc34eba6a901458aae092d1543"
  }
 },
 "nbformat": 4,
 "nbformat_minor": 2
}