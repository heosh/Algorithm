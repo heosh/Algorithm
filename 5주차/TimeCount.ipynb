{
 "cells": [
  {
   "cell_type": "code",
   "execution_count": 13,
   "source": [
    "# 00시 00분 00초 부터 N시 59분 59초까지의 모든 시각 중에서 3이 하나라도 포함되는 모든 경우의 수를 구하여라.\r\n",
    "\r\n",
    "# h 입력 받기\r\n",
    "h = int(input())\r\n",
    "\r\n",
    "count = 0\r\n",
    "for i in range(h + 1):\r\n",
    "    for j in range(60):\r\n",
    "        for k in range(60):\r\n",
    "            # 매 시각 안에 '3'이 포함되어 있다면 카운트 증가\r\n",
    "            if '3' in str(i) + str(j) + str(k):\r\n",
    "                count += 1\r\n",
    "\r\n",
    "print(count)"
   ],
   "outputs": [
    {
     "output_type": "stream",
     "name": "stdout",
     "text": [
      "11475\n"
     ]
    }
   ],
   "metadata": {}
  }
 ],
 "metadata": {
  "orig_nbformat": 4,
  "language_info": {
   "name": "python",
   "version": "3.9.2",
   "mimetype": "text/x-python",
   "codemirror_mode": {
    "name": "ipython",
    "version": 3
   },
   "pygments_lexer": "ipython3",
   "nbconvert_exporter": "python",
   "file_extension": ".py"
  },
  "kernelspec": {
   "name": "python3",
   "display_name": "Python 3.9.2 64-bit"
  },
  "interpreter": {
   "hash": "6dd0af9b8b7e17f847c2ee7319c6039c72192adc34eba6a901458aae092d1543"
  }
 },
 "nbformat": 4,
 "nbformat_minor": 2
}