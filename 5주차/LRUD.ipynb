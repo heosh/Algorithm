{
 "cells": [
  {
   "cell_type": "code",
   "execution_count": 1,
   "source": [
    "# 여행가 A는 N × N 크기의 정사각형 공간 위에 서 있습니다. 이 공간은 1 × 1 크기의 정사각형으로나누어져 있습니다.\r\n",
    "# 가장 왼쪽 위 좌표는 (1, 1)이며, 가장 오른쪽 아래 좌표는 (N, N)에 해당합니다.\r\n",
    "# 여행가 A는 상, 하, 좌, 우 방향으로 이동할 수 있으며, 시작 좌표는 항상 (1, 1)입니다. 우리 앞에는 여행가 A가 이동할 계획이 적힌 계획서가 놓여 있습니다.\r\n",
    "# • 계획서에는 하나의 줄에 띄어쓰기를 기준으로 하여 L, R, U, D 중 하나의 문자가 반복적으로 적혀 있습니다. 각 문자의 의미는 다음과 같습니다.\r\n",
    "# • L: 왼쪽으로 한 칸 이동\r\n",
    "# • R: 오른쪽으로 한 칸 이동\r\n",
    "# • U: 위로 한 칸 이동\r\n",
    "# • D: 아래로 한 칸 이동\r\n",
    "# 여행가 A가 최종적으로 도착할 지점의 좌표(X, Y)를 공백을 기준으로 구분하여 출력합니다.\r\n",
    "\r\n",
    "# 입력 예시 \r\n",
    "# 5\r\n",
    "# R R R U D D\r\n",
    "# 출력 예시\r\n",
    "# 3 4\r\n",
    "\r\n",
    "# n 입력 받기\r\n",
    "n = int(input())\r\n",
    "x, y = 1, 1\r\n",
    "plans = input().split()\r\n",
    "\r\n",
    "# L, R, U, D에 따른 이동 방향\r\n",
    "dx = [0, 0, -1, 1]\r\n",
    "dy = [-1, 1, 0, 0]\r\n",
    "move_types = ['L', 'R', 'U', 'D']\r\n",
    "\r\n",
    "# 이동 계획을 하나씩 확인하기\r\n",
    "for plan in plans:\r\n",
    "    # 이동 후 좌표 구하기\r\n",
    "    for i in range(len(move_types)):\r\n",
    "        if plan == move_types[i]:\r\n",
    "            nx = x + dx[i]\r\n",
    "            ny = y + dy[i]\r\n",
    "    # 공간을 벗어나는 경우 무시\r\n",
    "    if nx < 1 or ny < 1 or nx > n or ny > n:\r\n",
    "        continue\r\n",
    "    # 이동 수행\r\n",
    "    x, y = nx, ny\r\n",
    "\r\n",
    "print(x, y)"
   ],
   "outputs": [
    {
     "output_type": "stream",
     "name": "stdout",
     "text": [
      "4 1\n"
     ]
    }
   ],
   "metadata": {}
  },
  {
   "cell_type": "code",
   "execution_count": null,
   "source": [],
   "outputs": [],
   "metadata": {}
  }
 ],
 "metadata": {
  "orig_nbformat": 4,
  "language_info": {
   "name": "python",
   "version": "3.9.2",
   "mimetype": "text/x-python",
   "codemirror_mode": {
    "name": "ipython",
    "version": 3
   },
   "pygments_lexer": "ipython3",
   "nbconvert_exporter": "python",
   "file_extension": ".py"
  },
  "kernelspec": {
   "name": "python3",
   "display_name": "Python 3.9.2 64-bit"
  },
  "interpreter": {
   "hash": "6dd0af9b8b7e17f847c2ee7319c6039c72192adc34eba6a901458aae092d1543"
  }
 },
 "nbformat": 4,
 "nbformat_minor": 2
}